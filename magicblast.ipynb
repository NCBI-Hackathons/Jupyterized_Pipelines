{
 "cells": [
  {
   "cell_type": "code",
   "execution_count": null,
   "metadata": {
    "colab_type": "text",
    "id": "7PKpaWJVklQr"
   },
   "outputs": [],
   "source": [
    "# Getting Started with Magic-BLAST\n",
    "\n",
    "Please start by installing [magicblast](https://ncbi.github.io/magicblast/) and EDirect tools! The go to **Setting environmental variables** section to get going!\n",
    "\n",
    "Note: If you want to copy and paste these commands in a terminal, remove the `!` preceding the Linux commands."
   ]
  },
  {
   "cell_type": "markdown",
   "metadata": {
    "colab_type": "text",
    "id": "0ovzLLrC_nJR"
   },
   "source": [
    "## Installing dependencies\n",
    "\n",
    "We have already installed the following dependencies for you! Go ahead and proceed to the **Getting Started** section!\n",
    "\n",
    "...but if you need to re-install, use the code below.\n",
    "\n",
    "- Magic-BLAST\n",
    "- perl\n",
    "- NCBI EDirect tools"
   ]
  },
  {
   "cell_type": "markdown",
   "metadata": {
    "colab_type": "text",
    "id": "2iG_g_uRJAc9"
   },
   "source": [
    "#### Installing Magic-BLAST"
   ]
  },
  {
   "cell_type": "code",
   "execution_count": null,
   "metadata": {
    "colab": {
     "autoexec": {
      "startup": false,
      "wait_interval": 0
     },
     "base_uri": "https://localhost:8080/",
     "height": 272
    },
    "colab_type": "code",
    "executionInfo": {
     "elapsed": 3763,
     "status": "ok",
     "timestamp": 1530122910454,
     "user": {
      "displayName": "Devante Thompson",
      "photoUrl": "//lh3.googleusercontent.com/-kUiZlYOAocs/AAAAAAAAAAI/AAAAAAAAAAc/ePOSuOpB1co/s50-c-k-no/photo.jpg",
      "userId": "111123795150166665906"
     },
     "user_tz": 240
    },
    "id": "oxU1AOoZAkQ9",
    "outputId": "46eb4465-4d6b-4eaf-b3bd-63b2dfef6dca"
   },
   "outputs": [],
   "source": [
    "# Magic-BLAST\n",
    "cd ~\n",
    "wget ftp://ftp.ncbi.nlm.nih.gov/blast/executables/magicblast/LATEST/ncbi-magicblast-1.3.0-x64-linux.tar.gz"
   ]
  },
  {
   "cell_type": "code",
   "execution_count": null,
   "metadata": {
    "colab": {
     "autoexec": {
      "startup": false,
      "wait_interval": 0
     },
     "base_uri": "https://localhost:8080/",
     "height": 153
    },
    "colab_type": "code",
    "executionInfo": {
     "elapsed": 2146,
     "status": "ok",
     "timestamp": 1530122917581,
     "user": {
      "displayName": "Devante Thompson",
      "photoUrl": "//lh3.googleusercontent.com/-kUiZlYOAocs/AAAAAAAAAAI/AAAAAAAAAAc/ePOSuOpB1co/s50-c-k-no/photo.jpg",
      "userId": "111123795150166665906"
     },
     "user_tz": 240
    },
    "id": "YS03-EveMlTA",
    "outputId": "7bf5750d-a66e-48e1-fc47-60b167ff6bd4"
   },
   "outputs": [],
   "source": [
    "tar -xzvf ncbi-magicblast-1.3.0-x64-linux.tar.gz"
   ]
  },
  {
   "cell_type": "code",
   "execution_count": null,
   "metadata": {
    "colab": {
     "autoexec": {
      "startup": false,
      "wait_interval": 0
     },
     "base_uri": "https://localhost:8080/",
     "height": 153
    },
    "colab_type": "code",
    "executionInfo": {
     "elapsed": 1475,
     "status": "ok",
     "timestamp": 1530122920691,
     "user": {
      "displayName": "Devante Thompson",
      "photoUrl": "//lh3.googleusercontent.com/-kUiZlYOAocs/AAAAAAAAAAI/AAAAAAAAAAc/ePOSuOpB1co/s50-c-k-no/photo.jpg",
      "userId": "111123795150166665906"
     },
     "user_tz": 240
    },
    "id": "86wSZEhcMsI2",
    "outputId": "eb727797-3a51-47b3-cd43-49398d40779e"
   },
   "outputs": [],
   "source": [
    "ls"
   ]
  },
  {
   "cell_type": "markdown",
   "metadata": {
    "colab_type": "text",
    "id": "NzQv82aVJEKJ"
   },
   "source": [
    "#### Installing NCBI EDirect tools"
   ]
  },
  {
   "cell_type": "code",
   "execution_count": null,
   "metadata": {
    "colab": {
     "autoexec": {
      "startup": false,
      "wait_interval": 0
     },
     "base_uri": "https://localhost:8080/",
     "height": 102
    },
    "colab_type": "code",
    "executionInfo": {
     "elapsed": 3113,
     "status": "ok",
     "timestamp": 1530122927491,
     "user": {
      "displayName": "Devante Thompson",
      "photoUrl": "//lh3.googleusercontent.com/-kUiZlYOAocs/AAAAAAAAAAI/AAAAAAAAAAc/ePOSuOpB1co/s50-c-k-no/photo.jpg",
      "userId": "111123795150166665906"
     },
     "user_tz": 240
    },
    "id": "4HgiYYcK_t2E",
    "outputId": "6d21df6a-ca8c-4983-d553-9fc5c908788e"
   },
   "outputs": [],
   "source": [
    "apt-get install perl"
   ]
  },
  {
   "cell_type": "code",
   "execution_count": null,
   "metadata": {
    "colab": {
     "autoexec": {
      "startup": false,
      "wait_interval": 0
     },
     "base_uri": "https://localhost:8080/",
     "height": 1088
    },
    "colab_type": "code",
    "executionInfo": {
     "elapsed": 4135,
     "status": "ok",
     "timestamp": 1530122938593,
     "user": {
      "displayName": "Devante Thompson",
      "photoUrl": "//lh3.googleusercontent.com/-kUiZlYOAocs/AAAAAAAAAAI/AAAAAAAAAAc/ePOSuOpB1co/s50-c-k-no/photo.jpg",
      "userId": "111123795150166665906"
     },
     "user_tz": 240
    },
    "id": "tqBGmpE49BvG",
    "outputId": "6e1907fb-99f7-4d02-db98-d6df400b7a11"
   },
   "outputs": [],
   "source": [
    "# We will download the edirect.tar.gz in ~/\n",
    "cd ~\n",
    "# Download edirect.tar.gz\n",
    "perl -MNet::FTP -e '$ftp = new Net::FTP(\"ftp.ncbi.nlm.nih.gov\", Passive => 1); $ftp->login; $ftp->binary; $ftp->get(\"/entrez/entrezdirect/edirect.tar.gz\");'\n",
    "# Unpack tar.gz file\n",
    "tar -xzvf edirect.tar.gz"
   ]
  },
  {
   "cell_type": "code",
   "execution_count": null,
   "metadata": {
    "colab": {
     "autoexec": {
      "startup": false,
      "wait_interval": 0
     },
     "base_uri": "https://localhost:8080/",
     "height": 153
    },
    "colab_type": "code",
    "executionInfo": {
     "elapsed": 1545,
     "status": "ok",
     "timestamp": 1530122949656,
     "user": {
      "displayName": "Devante Thompson",
      "photoUrl": "//lh3.googleusercontent.com/-kUiZlYOAocs/AAAAAAAAAAI/AAAAAAAAAAc/ePOSuOpB1co/s50-c-k-no/photo.jpg",
      "userId": "111123795150166665906"
     },
     "user_tz": 240
    },
    "id": "1Wn68JQcNmzT",
    "outputId": "2c4d4803-b70f-4a34-d70d-054eaaa3b6e9"
   },
   "outputs": [],
   "source": [
    "ls"
   ]
  },
  {
   "cell_type": "code",
   "execution_count": null,
   "metadata": {
    "colab": {
     "autoexec": {
      "startup": false,
      "wait_interval": 0
     },
     "base_uri": "https://localhost:8080/",
     "height": 238
    },
    "colab_type": "code",
    "executionInfo": {
     "elapsed": 19606,
     "status": "ok",
     "timestamp": 1530122975441,
     "user": {
      "displayName": "Devante Thompson",
      "photoUrl": "//lh3.googleusercontent.com/-kUiZlYOAocs/AAAAAAAAAAI/AAAAAAAAAAc/ePOSuOpB1co/s50-c-k-no/photo.jpg",
      "userId": "111123795150166665906"
     },
     "user_tz": 240
    },
    "id": "Z0D-UzMOOBnL",
    "outputId": "efad6f3c-a312-4b8f-800f-6ce4765b9db8",
    "scrolled": true
   },
   "outputs": [],
   "source": [
    "# Now we will setup edirect using the setup.sh script\n",
    "./edirect/setup.sh"
   ]
  },
  {
   "cell_type": "markdown",
   "metadata": {
    "colab_type": "text",
    "id": "DGkqZwlsJwFH"
   },
   "source": [
    "## Important: Setting environment variables\n",
    "\n",
    "You must run this step to have the remainder of the tutorial working."
   ]
  },
  {
   "cell_type": "code",
   "execution_count": 30,
   "metadata": {
    "colab": {
     "autoexec": {
      "startup": false,
      "wait_interval": 0
     }
    },
    "colab_type": "code",
    "id": "nsbR6f9WFanE"
   },
   "outputs": [],
   "source": [
    "# Import Python3 package to set environment variables\n",
    "#import os\n",
    "#os.environ['PATH'] += \":/content/ncbi-magicblast-1.3.0/bin\"\n",
    "#os.environ['PATH'] += \":/content/edirect\"\n",
    "\n",
    "#Use this one if it is in Google Collaboratory. If not, use another command!\n",
    "# Use the commands below when testing in Jupyter notebooks (local computer)\n",
    "export PATH=\"/home/dantonio/ncbi-magicblast-1.3.0/bin:$PATH\""
   ]
  },
  {
   "cell_type": "markdown",
   "metadata": {
    "colab_type": "text",
    "id": "nHJ5bmLO5xZl"
   },
   "source": [
    "First, let's see what we have in our directory:"
   ]
  },
  {
   "cell_type": "code",
   "execution_count": null,
   "metadata": {
    "colab": {
     "autoexec": {
      "startup": false,
      "wait_interval": 0
     },
     "base_uri": "https://localhost:8080/",
     "height": 153
    },
    "colab_type": "code",
    "executionInfo": {
     "elapsed": 1457,
     "status": "ok",
     "timestamp": 1530122988046,
     "user": {
      "displayName": "Devante Thompson",
      "photoUrl": "//lh3.googleusercontent.com/-kUiZlYOAocs/AAAAAAAAAAI/AAAAAAAAAAc/ePOSuOpB1co/s50-c-k-no/photo.jpg",
      "userId": "111123795150166665906"
     },
     "user_tz": 240
    },
    "id": "jwNyeBh8jpin",
    "outputId": "cb325b98-e858-40be-8856-def57a4c34c4"
   },
   "outputs": [],
   "source": [
    "ls"
   ]
  },
  {
   "cell_type": "markdown",
   "metadata": {
    "colab_type": "text",
    "id": "BMdcqjvR52Wb"
   },
   "source": [
    "Now we will set up our working directory called `sandbox`:"
   ]
  },
  {
   "cell_type": "code",
   "execution_count": null,
   "metadata": {
    "colab": {
     "autoexec": {
      "startup": false,
      "wait_interval": 0
     },
     "base_uri": "https://localhost:8080/",
     "height": 153
    },
    "colab_type": "code",
    "executionInfo": {
     "elapsed": 2710,
     "status": "ok",
     "timestamp": 1530122996962,
     "user": {
      "displayName": "Devante Thompson",
      "photoUrl": "//lh3.googleusercontent.com/-kUiZlYOAocs/AAAAAAAAAAI/AAAAAAAAAAc/ePOSuOpB1co/s50-c-k-no/photo.jpg",
      "userId": "111123795150166665906"
     },
     "user_tz": 240
    },
    "id": "yMn32vdr5D2b",
    "outputId": "ca4b6885-1f00-4a22-d308-a8a6a17e9da5"
   },
   "outputs": [],
   "source": [
    "mkdir -p ~/sandbox\n",
    "\n",
    "# Check if our directory has been made\n",
    "ls"
   ]
  },
  {
   "cell_type": "code",
   "execution_count": null,
   "metadata": {},
   "outputs": [],
   "source": [
    "cd ~ \n",
    "ls"
   ]
  },
  {
   "cell_type": "markdown",
   "metadata": {
    "colab_type": "text",
    "id": "83GZQL-dKI5N"
   },
   "source": [
    "Let's bring up the usage message for `magicblast`:"
   ]
  },
  {
   "cell_type": "code",
   "execution_count": 35,
   "metadata": {
    "colab": {
     "autoexec": {
      "startup": false,
      "wait_interval": 0
     },
     "base_uri": "https://localhost:8080/",
     "height": 323
    },
    "colab_type": "code",
    "executionInfo": {
     "elapsed": 1740,
     "status": "ok",
     "timestamp": 1530123001582,
     "user": {
      "displayName": "Devante Thompson",
      "photoUrl": "//lh3.googleusercontent.com/-kUiZlYOAocs/AAAAAAAAAAI/AAAAAAAAAAc/ePOSuOpB1co/s50-c-k-no/photo.jpg",
      "userId": "111123795150166665906"
     },
     "user_tz": 240
    },
    "id": "f6MlQaNNlK3z",
    "outputId": "fcdcfb99-4487-4f57-d1b3-e5e0a68c808b"
   },
   "outputs": [
    {
     "name": "stdout",
     "output_type": "stream",
     "text": [
      "USAGE\n",
      "  magicblast [-h] [-help] [-db database_name] [-gilist filename]\n",
      "    [-seqidlist filename] [-negative_gilist filename]\n",
      "    [-negative_seqidlist filename] [-db_soft_mask filtering_algorithm]\n",
      "    [-db_hard_mask filtering_algorithm] [-subject subject_input_file]\n",
      "    [-subject_loc range] [-query input_file] [-out output_file] [-gzo]\n",
      "    [-word_size int_value] [-gapopen open_penalty] [-gapextend extend_penalty]\n",
      "    [-perc_identity float_value] [-penalty penalty] [-lcase_masking]\n",
      "    [-validate_seqs TF] [-infmt format] [-paired] [-query_mate infile]\n",
      "    [-sra accession] [-parse_deflines TF] [-sra_cache] [-outfmt format]\n",
      "    [-no_query_id_trim] [-no_unaligned] [-num_threads int_value]\n",
      "    [-max_intron_length length] [-score num] [-max_edit_dist num] [-splice TF]\n",
      "    [-reftype type] [-limit_lookup TF] [-lookup_stride num] [-version]\n",
      "\n",
      "DESCRIPTION\n",
      "   Short read mapper\n",
      "\n",
      "Use '-help' to print detailed descriptions of command line arguments\n"
     ]
    }
   ],
   "source": [
    "magicblast -h                                                                                                                                                                   magicblast -help"
   ]
  },
  {
   "cell_type": "markdown",
   "metadata": {
    "colab_type": "text",
    "id": "CCuRISkEoKsE"
   },
   "source": [
    "# Create a BLAST database\n",
    "---\n",
    "\n",
    "First we need to create a BLAST database for our genome or transcriptome. For reference sequences in a FASTA file, use this command line:\n",
    "\n",
    "```bash\n",
    "!makeblastdb -in <reference.fa> -dbtype nucl -parse_seqids -out <database_name> -title \"Database title\"\n",
    "```\n",
    "\n",
    "The `-parse_seqids` option is required to keep the original sequence identifiers. Otherwise makeblastdb will generate its own identifiers, `-title` is optional.\n",
    "\n",
    "For more information on `makeblastdb` see [NCBI BLAST+ Command Line User Manual](https://www.ncbi.nlm.nih.gov/books/NBK279688/).\n",
    "\n",
    "Magic-BLAST will work with a genome in a FASTA file, but will be very slow for anything larger than a bacterial genome, so we do not recommend it."
   ]
  },
  {
   "cell_type": "markdown",
   "metadata": {
    "colab_type": "text",
    "id": "S9z2crAK3V4P"
   },
   "source": [
    "### Uploading Files from your Computer\n",
    "\n",
    "If you have a file on your local computer to upload (i.e. a reference.fa file that you can't download via a link), run the code below. Otherwise, continue to the **Getting Started with Magic-BLAST** section!\n",
    "\n",
    "**Note:** A `Choose Files` widget will appear within 1 minute. You can then click on the widget and select the file you want to upload. This works best in a Google Chrome browser!"
   ]
  },
  {
   "cell_type": "code",
   "execution_count": null,
   "metadata": {
    "colab": {
     "autoexec": {
      "startup": false,
      "wait_interval": 0
     },
     "base_uri": "https://localhost:8080/",
     "height": 38,
     "resources": {
      "http://localhost:8080/nbextensions/google.colab/files.js": {
       "data": "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",
       "headers": [
        [
         "content-type",
         "application/javascript"
        ]
       ],
       "ok": true,
       "status": 200,
       "status_text": ""
      }
     }
    },
    "colab_type": "code",
    "executionInfo": {
     "elapsed": 31353,
     "status": "ok",
     "timestamp": 1530123057043,
     "user": {
      "displayName": "Devante Thompson",
      "photoUrl": "//lh3.googleusercontent.com/-kUiZlYOAocs/AAAAAAAAAAI/AAAAAAAAAAc/ePOSuOpB1co/s50-c-k-no/photo.jpg",
      "userId": "111123795150166665906"
     },
     "user_tz": 240
    },
    "id": "2UvjshGezRx9",
    "outputId": "b2fbd526-2be7-4f62-84f1-67038fd155f1"
   },
   "outputs": [],
   "source": [
    "from google.colab import files\n",
    "\n",
    "uploaded = files.upload()\n",
    "\n",
    "for fn in uploaded.keys():\n",
    "  print('User uploaded file \"{name}\" with length {length} bytes'.format(\n",
    "      name=fn, length=len(uploaded[fn])))"
   ]
  },
  {
   "cell_type": "code",
   "execution_count": null,
   "metadata": {
    "colab": {
     "autoexec": {
      "startup": false,
      "wait_interval": 0
     },
     "base_uri": "https://localhost:8080/",
     "height": 153
    },
    "colab_type": "code",
    "executionInfo": {
     "elapsed": 1476,
     "status": "ok",
     "timestamp": 1530123058710,
     "user": {
      "displayName": "Devante Thompson",
      "photoUrl": "//lh3.googleusercontent.com/-kUiZlYOAocs/AAAAAAAAAAI/AAAAAAAAAAc/ePOSuOpB1co/s50-c-k-no/photo.jpg",
      "userId": "111123795150166665906"
     },
     "user_tz": 240
    },
    "id": "Q-8A1B8FCx1n",
    "outputId": "b92440f9-9ca6-4cbc-b652-e8401040f32c"
   },
   "outputs": [],
   "source": [
    "# Check if file was uploaded\n",
    "ls"
   ]
  },
  {
   "cell_type": "markdown",
   "metadata": {
    "colab_type": "text",
    "id": "vYU2mJB1onKX"
   },
   "source": [
    "### Example\n",
    "\n",
    "For our example, we will be working with `viralgen.fa`. Let's take a look at it first."
   ]
  },
  {
   "cell_type": "code",
   "execution_count": null,
   "metadata": {
    "colab": {
     "autoexec": {
      "startup": false,
      "wait_interval": 0
     },
     "base_uri": "https://localhost:8080/",
     "height": 32385
    },
    "colab_type": "code",
    "executionInfo": {
     "elapsed": 1547,
     "status": "ok",
     "timestamp": 1530113562521,
     "user": {
      "displayName": "Devante Thompson",
      "photoUrl": "//lh3.googleusercontent.com/-kUiZlYOAocs/AAAAAAAAAAI/AAAAAAAAAAc/ePOSuOpB1co/s50-c-k-no/photo.jpg",
      "userId": "111123795150166665906"
     },
     "user_tz": 240
    },
    "id": "PxSiV492oEKw",
    "outputId": "6196225f-b4c7-4f13-da63-5732f0da65b6"
   },
   "outputs": [],
   "source": [
    "!cat viralgen.fa"
   ]
  },
  {
   "cell_type": "markdown",
   "metadata": {
    "colab_type": "text",
    "id": "g_t_Hxa_487g"
   },
   "source": [
    "To create a BLAST database from the reference file.fa, use the following command line:"
   ]
  },
  {
   "cell_type": "code",
   "execution_count": null,
   "metadata": {
    "colab": {
     "autoexec": {
      "startup": false,
      "wait_interval": 0
     },
     "base_uri": "https://localhost:8080/",
     "height": 187
    },
    "colab_type": "code",
    "executionInfo": {
     "elapsed": 2667,
     "status": "ok",
     "timestamp": 1530126029441,
     "user": {
      "displayName": "Devante Thompson",
      "photoUrl": "//lh3.googleusercontent.com/-kUiZlYOAocs/AAAAAAAAAAI/AAAAAAAAAAc/ePOSuOpB1co/s50-c-k-no/photo.jpg",
      "userId": "111123795150166665906"
     },
     "user_tz": 240
    },
    "id": "6gH9l8aR48Xj",
    "outputId": "19a52bf8-e686-49c3-accc-d7956bbf7f95"
   },
   "outputs": [],
   "source": [
    "# Go into sandbox directory\n",
    "cd ~/sandbox\n",
    "# Create BLAST database\n",
    "makeblastdb -in $HOME/viralgen.fa -out my_reference -parse_seqids -dbtype nucl "
   ]
  },
  {
   "cell_type": "code",
   "execution_count": null,
   "metadata": {
    "colab": {
     "autoexec": {
      "startup": false,
      "wait_interval": 0
     },
     "base_uri": "https://localhost:8080/",
     "height": 153
    },
    "colab_type": "code",
    "executionInfo": {
     "elapsed": 1402,
     "status": "ok",
     "timestamp": 1530126071992,
     "user": {
      "displayName": "Devante Thompson",
      "photoUrl": "//lh3.googleusercontent.com/-kUiZlYOAocs/AAAAAAAAAAI/AAAAAAAAAAc/ePOSuOpB1co/s50-c-k-no/photo.jpg",
      "userId": "111123795150166665906"
     },
     "user_tz": 240
    },
    "id": "cmh_gcT-6Lr8",
    "outputId": "2f89e088-fe92-4797-cdcf-56f955b72d02"
   },
   "outputs": [],
   "source": [
    "ls"
   ]
  },
  {
   "cell_type": "markdown",
   "metadata": {
    "colab_type": "text",
    "id": "Q3En74n_c3x_"
   },
   "source": [
    "datalab  edirect.tar.gz   ncbi-magicblast-1.3.0\t\t\t  sandbox\n",
    "edirect  viralgen.fa  ncbi-magicblast-1.3.0-x64-linux.tar.gz"
   ]
  },
  {
   "cell_type": "markdown",
   "metadata": {
    "colab_type": "text",
    "id": "mxusSU88cyIo"
   },
   "source": [
    "datalab  edirect.tar.gz   ncbi-magicblast-1.3.0\t\t\t  sandbox\n",
    "edirect  viralgen.fa  ncbi-magicblast-1.3.0-x64-linux.tar.gz"
   ]
  },
  {
   "cell_type": "markdown",
   "metadata": {
    "colab_type": "text",
    "id": "ZZtdNkBY6Rbp"
   },
   "source": [
    "Note that the word following ‘>’ is a sequence identifier that will be used in Magic-BLAST reports. The identifier should be unique.\n",
    "\n",
    "There are several ways to download whole genomes, transcriptomes, or selected sequences from NCBI. For example to download human chromosome 1 using [NCBI EDirect tools](https://github.com/NCBI-Hackathons/EDirectCookbook) use:\n",
    "\n",
    "**NOTE:** We have already installed NCBI EDirect tools for you here. But if you are having problems with this installation, please follow installation instructions on [NCBI EDirect tools](https://github.com/NCBI-Hackathons/EDirectCookbook) before proceeding."
   ]
  },
  {
   "cell_type": "code",
   "execution_count": 40,
   "metadata": {
    "colab": {
     "autoexec": {
      "startup": false,
      "wait_interval": 0
     },
     "base_uri": "https://localhost:8080/",
     "height": 1275
    },
    "colab_type": "code",
    "executionInfo": {
     "elapsed": 1498,
     "status": "ok",
     "timestamp": 1530126079550,
     "user": {
      "displayName": "Devante Thompson",
      "photoUrl": "//lh3.googleusercontent.com/-kUiZlYOAocs/AAAAAAAAAAI/AAAAAAAAAAc/ePOSuOpB1co/s50-c-k-no/photo.jpg",
      "userId": "111123795150166665906"
     },
     "user_tz": 240
    },
    "id": "UzKLJa9tL9xB",
    "outputId": "d210b5aa-3599-4f2f-f956-e977c8266bd8"
   },
   "outputs": [
    {
     "name": "stdout",
     "output_type": "stream",
     "text": [
      "esearch 7.40\n",
      "\n",
      "Query Specification\n",
      "\n",
      "  -db          Database name\n",
      "  -query       Query string\n",
      "\n",
      "Document Order\n",
      "\n",
      "  -sort        Result presentation order\n",
      "\n",
      "Date Constraint\n",
      "\n",
      "  -days        Number of days in the past\n",
      "  -datetype    Date field abbreviation\n",
      "  -mindate     Start of date range\n",
      "  -maxdate     End of date range\n",
      "\n",
      "Limit by Field\n",
      "\n",
      "  -field       Query words individually in field\n",
      "  -pairs       Query overlapping word pairs\n",
      "\n",
      "Spell Check\n",
      "\n",
      "  -spell       Correct misspellings in query\n",
      "\n",
      "Miscellaneous Arguments\n",
      "\n",
      "  -label       Alias for query step\n",
      "\n",
      "Sort Order Examples\n",
      "\n",
      "  -db            -sort\n",
      "  ___            _____\n",
      "\n",
      "  gene\n",
      "                 Chromosome\n",
      "                 Gene Weight\n",
      "                 Name\n",
      "                 Relevance\n",
      "\n",
      "  geoprofiles\n",
      "                 Default Order\n",
      "                 Deviation\n",
      "                 Mean Value\n",
      "                 Outliers\n",
      "                 Subgroup Effect\n",
      "\n",
      "  pubmed\n",
      "                 First Author\n",
      "                 Journal\n",
      "                 Last Author\n",
      "                 Pub Date\n",
      "                 Recently Added\n",
      "                 Relevance\n",
      "                 Title\n",
      "\n",
      "  (sequences)\n",
      "                 Accession\n",
      "                 Date Modified\n",
      "                 Date Released\n",
      "                 Default Order\n",
      "                 Organism Name\n",
      "                 Taxonomy ID\n",
      "\n",
      "  snp\n",
      "                 Chromosome Base Position\n",
      "                 Default Order\n",
      "                 Heterozygosity\n",
      "                 Organism\n",
      "                 SNP_ID\n",
      "                 Success Rate\n",
      "\n"
     ]
    }
   ],
   "source": [
    "# Let's take a quick look at the usage message\n",
    "esearch -help"
   ]
  },
  {
   "cell_type": "code",
   "execution_count": null,
   "metadata": {
    "colab": {
     "autoexec": {
      "startup": false,
      "wait_interval": 0
     },
     "base_uri": "https://localhost:8080/",
     "height": 547
    },
    "colab_type": "code",
    "executionInfo": {
     "elapsed": 1589,
     "status": "ok",
     "timestamp": 1530126320068,
     "user": {
      "displayName": "Devante Thompson",
      "photoUrl": "//lh3.googleusercontent.com/-kUiZlYOAocs/AAAAAAAAAAI/AAAAAAAAAAc/ePOSuOpB1co/s50-c-k-no/photo.jpg",
      "userId": "111123795150166665906"
     },
     "user_tz": 240
    },
    "id": "CFzgM8Bk6SJj",
    "outputId": "bb806be7-e8a5-40da-ea2e-a09328ed460c"
   },
   "outputs": [],
   "source": [
    "#esearch -db my_reference -query NC_000001 | !efetch -format fasta > NC_000001.fa\n",
    "esearch -db my_reference -query NC_000001 "
   ]
  },
  {
   "cell_type": "code",
   "execution_count": null,
   "metadata": {
    "colab": {
     "autoexec": {
      "startup": false,
      "wait_interval": 0
     },
     "base_uri": "https://localhost:8080/",
     "height": 2414
    },
    "colab_type": "code",
    "executionInfo": {
     "elapsed": 1574,
     "status": "ok",
     "timestamp": 1530124863133,
     "user": {
      "displayName": "Devante Thompson",
      "photoUrl": "//lh3.googleusercontent.com/-kUiZlYOAocs/AAAAAAAAAAI/AAAAAAAAAAc/ePOSuOpB1co/s50-c-k-no/photo.jpg",
      "userId": "111123795150166665906"
     },
     "user_tz": 240
    },
    "id": "sp-w-FEPi-Zy",
    "outputId": "bbad18ae-ec68-4ef7-b2cd-21ebfeb3265c"
   },
   "outputs": [],
   "source": [
    "efetch -h"
   ]
  },
  {
   "cell_type": "markdown",
   "metadata": {
    "colab_type": "text",
    "id": "h4JXmy6E6bRC"
   },
   "source": [
    "You can download full human genome or transcriptome from [NCBI human genome resources](https://www.ncbi.nlm.nih.gov/projects/genome/guide/human/index.shtml) or use [NCBI Genome search](https://www.ncbi.nlm.nih.gov/genome) for any organism.\n",
    "\n",
    "For example to download the latest human genome use:"
   ]
  },
  {
   "cell_type": "code",
   "execution_count": null,
   "metadata": {
    "colab": {
     "autoexec": {
      "startup": false,
      "wait_interval": 0
     },
     "base_uri": "https://localhost:8080/",
     "height": 289
    },
    "colab_type": "code",
    "executionInfo": {
     "elapsed": 128175,
     "status": "ok",
     "timestamp": 1529677611697,
     "user": {
      "displayName": "Devante Thompson",
      "photoUrl": "//lh3.googleusercontent.com/-kUiZlYOAocs/AAAAAAAAAAI/AAAAAAAAAAc/ePOSuOpB1co/s50-c-k-no/photo.jpg",
      "userId": "111123795150166665906"
     },
     "user_tz": 240
    },
    "id": "A8OMEWCZ6b_6",
    "outputId": "7b0f0c20-a9ca-42f1-dac1-a0a5db18a7cf"
   },
   "outputs": [],
   "source": [
    "cd ~/sandbox\n",
    "wget ftp://ftp.ncbi.nlm.nih.gov/refseq/H_sapiens/annotation/GRCh38_latest/refseq_identifiers/GRCh38_latest_genomic.fna.gz\n",
    "gzip -d GRCh38_latest_genomic.fna.gz\n",
    "makeblastdb -in GRCh38_latest_genomic.fna -out GRCh38 -parse_seqids -dbtype nucl"
   ]
  },
  {
   "cell_type": "code",
   "execution_count": null,
   "metadata": {
    "colab": {
     "autoexec": {
      "startup": false,
      "wait_interval": 0
     }
    },
    "colab_type": "code",
    "id": "V-BmMdQu61IO"
   },
   "outputs": [],
   "source": [
    "ls"
   ]
  },
  {
   "cell_type": "markdown",
   "metadata": {
    "colab_type": "text",
    "id": "94lqG-Pb63vw"
   },
   "source": [
    "# Use NCBI SRA repository\n",
    "---\n",
    "\n",
    "If you are mapping an experiment from [NCBI Sequence Read Archive](https://www.ncbi.nlm.nih.gov/sra), use `-sra <accession>` option:\n",
    "\n",
    "```bash\n",
    "magicblast -sra <accession> -db <database_name>\n",
    "```\n",
    "\n",
    "### Example"
   ]
  },
  {
   "cell_type": "code",
   "execution_count": null,
   "metadata": {
    "colab": {
     "autoexec": {
      "startup": false,
      "wait_interval": 0
     },
     "base_uri": "https://localhost:8080/",
     "height": 17
    },
    "colab_type": "code",
    "executionInfo": {
     "elapsed": 1377,
     "status": "ok",
     "timestamp": 1530113706723,
     "user": {
      "displayName": "Devante Thompson",
      "photoUrl": "//lh3.googleusercontent.com/-kUiZlYOAocs/AAAAAAAAAAI/AAAAAAAAAAc/ePOSuOpB1co/s50-c-k-no/photo.jpg",
      "userId": "111123795150166665906"
     },
     "user_tz": 240
    },
    "id": "py3__CPKMZB9",
    "outputId": "dd33023e-9c69-44bb-8b5e-7fc42dbd6205"
   },
   "outputs": [],
   "source": [
    "cd ~/sandbox"
   ]
  },
  {
   "cell_type": "code",
   "execution_count": null,
   "metadata": {
    "colab": {
     "autoexec": {
      "startup": false,
      "wait_interval": 0
     },
     "base_uri": "https://localhost:8080/",
     "height": 34
    },
    "colab_type": "code",
    "executionInfo": {
     "elapsed": 1370,
     "status": "ok",
     "timestamp": 1530113711128,
     "user": {
      "displayName": "Devante Thompson",
      "photoUrl": "//lh3.googleusercontent.com/-kUiZlYOAocs/AAAAAAAAAAI/AAAAAAAAAAc/ePOSuOpB1co/s50-c-k-no/photo.jpg",
      "userId": "111123795150166665906"
     },
     "user_tz": 240
    },
    "id": "5VVs4bvB64Qw",
    "outputId": "d3fd7580-c642-458e-b661-d9fd67db6878"
   },
   "outputs": [],
   "source": [
    "magicblast -sra SRS3315293 -db my_reference"
   ]
  },
  {
   "cell_type": "markdown",
   "metadata": {
    "colab_type": "text",
    "id": "G68VinGd69y2"
   },
   "source": [
    "To map several SRA runs use comma-separated list of accessions:"
   ]
  },
  {
   "cell_type": "code",
   "execution_count": null,
   "metadata": {
    "colab": {
     "autoexec": {
      "startup": false,
      "wait_interval": 0
     },
     "base_uri": "https://localhost:8080/",
     "height": 34
    },
    "colab_type": "code",
    "executionInfo": {
     "elapsed": 1355,
     "status": "ok",
     "timestamp": 1530113714678,
     "user": {
      "displayName": "Devante Thompson",
      "photoUrl": "//lh3.googleusercontent.com/-kUiZlYOAocs/AAAAAAAAAAI/AAAAAAAAAAc/ePOSuOpB1co/s50-c-k-no/photo.jpg",
      "userId": "111123795150166665906"
     },
     "user_tz": 240
    },
    "id": "Zy06YDc66-Jl",
    "outputId": "45d7f6ce-858e-4823-9713-2f785492791e"
   },
   "outputs": [],
   "source": [
    "magicblast -sra SRR1237994,SRR1237993 -db my_reference"
   ]
  },
  {
   "cell_type": "markdown",
   "metadata": {
    "colab_type": "text",
    "id": "pUbf8DqF7Dsy"
   },
   "source": [
    "See [Create BLAST database](https://ncbi.github.io/magicblast/cook/blastdb.html) to see how to create a BLAST database."
   ]
  },
  {
   "cell_type": "markdown",
   "metadata": {
    "colab_type": "text",
    "id": "W3jTuKlx7HHh"
   },
   "source": [
    "# Reads in FASTA or FASTQ\n",
    "---\n",
    "\n",
    "If your reads are in a local FASTA file use this command line:\n",
    "\n",
    "```bash\n",
    "!magicblast -query reads.fa -db my_reference\n",
    "```\n",
    "\n",
    "If your reads are in a local FASTQ file use this command line:\n",
    "\n",
    "```bash\n",
    "!magicblast -query reads.fastq -db my_reference -infmt fastq\n",
    "```"
   ]
  },
  {
   "cell_type": "markdown",
   "metadata": {
    "colab_type": "text",
    "id": "lWWwa0i57LdI"
   },
   "source": [
    "# Paired reads\n",
    "---\n",
    "\n",
    "For SRA accessions Magic-BLAST determines whether reads are paired and maps them appropriately.\n",
    "\n",
    "For reads in FASTA and FASTQ files paired reads can either be in a single file, or two files.\n",
    "\n",
    "#### Single file\n",
    "\n",
    "For paired reads presented as successive entries in a single FASTA or FASTQ file, i.e. read 1 and 2 of fragment 1, then read 1 and 2 of fragment 2, etc., simply add the parameter `-paired`:\n",
    "\n",
    "```bash\n",
    "!magicblast -query reads.fa -db genome -paired\n",
    "```\n",
    "\n",
    "or\n",
    "\n",
    "```bash\n",
    "!magicblast -query reads.fastq -db genome -paired -infmt fastq\n",
    "```\n",
    "\n",
    "#### Two files\n",
    "\n",
    "For paired reads presented in two parallel files, use these options:\n",
    "\n",
    "```bash\n",
    "!magicblast -query reads.fa -query_mate mates.fa -db genome\n",
    "```\n",
    "\n",
    "or\n",
    "\n",
    "```bash\n",
    "!magicblast -query reads.fastq -query_mate mates.fastq -db genome -infmt fastq\n",
    "```"
   ]
  },
  {
   "cell_type": "markdown",
   "metadata": {
    "colab_type": "text",
    "id": "-J2aklB17O28"
   },
   "source": [
    "# RNA vs DNA\n",
    "---\n",
    "\n",
    "#### Splicing\n",
    "\n",
    "By default, Magic-BLAST aligns RNA reads to a genome and reports spliced alignments, possibly spanning several exons. To disable spliced alignments, use the `-splice F` option.\n",
    "\n",
    "For example, mapping RNA or DNA reads to a bacterial genome:"
   ]
  },
  {
   "cell_type": "code",
   "execution_count": null,
   "metadata": {
    "colab": {
     "autoexec": {
      "startup": false,
      "wait_interval": 0
     }
    },
    "colab_type": "code",
    "id": "SZSTtZae7EP6"
   },
   "outputs": [],
   "source": [
    "magicblast -sra SRR5647973 -db salmonella_enterica_genome -splice F"
   ]
  },
  {
   "cell_type": "markdown",
   "metadata": {
    "colab_type": "text",
    "id": "FQkftPqE7VKS"
   },
   "source": [
    "#### Transcriptome\n",
    "\n",
    "Use the `-reftype transcriptome` option, to map reads to a transcriptome database. For example:\n",
    "\n",
    "```bash\n",
    "!magicblast -query reads.fa -db my_transcripts -reftype transcriptome\n",
    "```\n",
    "\n",
    "The `-ref_type transcriptome` option is a short hand for `-splice F -limit_lookup F`, so the above call is equivalent to:\n",
    "\n",
    "```bash\n",
    "!magicblast -query reads.fa -db my_transcripts -splice F -limit_lookup F\n",
    "```\n",
    "\n",
    "Magic-Blast finds alignments between a read and a genome based on initial common word in both. Many genomes contain interspersed repeats that make mapping much more time consuming. To make mapping faster we disregard words that appear too often in the reference. This is not desirable when mapping to transcripts, because a transcript with many variants could be considered a repeat. The `-limit_lookup F` option turns this functionality off."
   ]
  },
  {
   "cell_type": "markdown",
   "metadata": {
    "colab_type": "text",
    "id": "9LKh08fE7eWZ"
   },
   "source": [
    "# Multi-threading\n",
    "---\n",
    "\n",
    "To use multiple CPUs, specify the maximal number of threads with the `-num_threads` parameter:\n",
    "\n",
    "```bash\n",
    "!magicblast -query reads.fa -db genome -num_threads 10\n",
    "```"
   ]
  }
 ],
 "metadata": {
  "colab": {
   "collapsed_sections": [],
   "default_view": {},
   "name": "magicblast.ipynb",
   "provenance": [
    {
     "file_id": "1VJFoWTG4LvrTGPRoYRGfVSWRWvNji-nb",
     "timestamp": 1529327415946
    }
   ],
   "version": "0.3.2",
   "views": {}
  },
  "kernelspec": {
   "display_name": "Bash",
   "language": "bash",
   "name": "bash"
  },
  "language_info": {
   "codemirror_mode": "shell",
   "file_extension": ".sh",
   "mimetype": "text/x-sh",
   "name": "bash"
  }
 },
 "nbformat": 4,
 "nbformat_minor": 1
}
