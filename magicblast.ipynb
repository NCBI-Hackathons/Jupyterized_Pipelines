{
  "nbformat": 4,
  "nbformat_minor": 0,
  "metadata": {
    "colab": {
      "name": "magicblast.ipynb",
      "version": "0.3.2",
      "views": {},
      "default_view": {},
      "provenance": [
        {
          "file_id": "1uZs3RHe64AHYvz5qDuJ6NqRYZ_owqgVY",
          "timestamp": 1531936728057
        },
        {
          "file_id": "1VJFoWTG4LvrTGPRoYRGfVSWRWvNji-nb",
          "timestamp": 1529327415946
        }
      ],
      "collapsed_sections": [
        "S9z2crAK3V4P",
        "xq0NwldLzGnJ"
      ]
    },
    "kernelspec": {
      "name": "python3",
      "display_name": "Python 3"
    }
  },
  "cells": [
    {
      "metadata": {
        "id": "7PKpaWJVklQr",
        "colab_type": "text"
      },
      "cell_type": "markdown",
      "source": [
        "# Getting Started with Magic-BLAST\n",
        "\n",
        "Please start by installing [magicblast](https://ncbi.github.io/magicblast/) and EDirect tools using the commands below! After running the commands under the **Installing dependencies** section, run the **Setting environment variables** section to get going!\n",
        "\n",
        "**Note**: If you want to copy and paste these commands in a terminal, remove the **`!` **preceding the Linux commands."
      ]
    },
    {
      "metadata": {
        "id": "0ovzLLrC_nJR",
        "colab_type": "text"
      },
      "cell_type": "markdown",
      "source": [
        "## Installing dependencies\n",
        "\n",
        "Please run the code blocks below in order to install the following required dependencies:\n",
        "\n",
        "- Magic-BLAST\n",
        "- perl and perl modules\n",
        "- NCBI EDirect tools (if you have a direct link to reference fasta files, you do not need to install Edirect tools)"
      ]
    },
    {
      "metadata": {
        "id": "2iG_g_uRJAc9",
        "colab_type": "text"
      },
      "cell_type": "markdown",
      "source": [
        "#### Installing Magic-BLAST"
      ]
    },
    {
      "metadata": {
        "id": "oxU1AOoZAkQ9",
        "colab_type": "code",
        "colab": {
          "autoexec": {
            "startup": false,
            "wait_interval": 0
          }
        }
      },
      "cell_type": "code",
      "source": [
        "# Magic-BLAST\n",
        "%cd ~\n",
        "!wget ftp://ftp.ncbi.nlm.nih.gov/blast/executables/magicblast/LATEST/ncbi-magicblast-1.3.0-x64-linux.tar.gz"
      ],
      "execution_count": 0,
      "outputs": []
    },
    {
      "metadata": {
        "id": "YS03-EveMlTA",
        "colab_type": "code",
        "colab": {
          "autoexec": {
            "startup": false,
            "wait_interval": 0
          }
        }
      },
      "cell_type": "code",
      "source": [
        "# Decompress gzipped tar archive\n",
        "!tar -xzvf ncbi-magicblast-1.3.0-x64-linux.tar.gz"
      ],
      "execution_count": 0,
      "outputs": []
    },
    {
      "metadata": {
        "id": "NzQv82aVJEKJ",
        "colab_type": "text"
      },
      "cell_type": "markdown",
      "source": [
        "#### Installing NCBI EDirect tools"
      ]
    },
    {
      "metadata": {
        "id": "4HgiYYcK_t2E",
        "colab_type": "code",
        "colab": {
          "autoexec": {
            "startup": false,
            "wait_interval": 0
          }
        }
      },
      "cell_type": "code",
      "source": [
        "!apt-get install perl"
      ],
      "execution_count": 0,
      "outputs": []
    },
    {
      "metadata": {
        "id": "tqBGmpE49BvG",
        "colab_type": "code",
        "colab": {
          "autoexec": {
            "startup": false,
            "wait_interval": 0
          }
        }
      },
      "cell_type": "code",
      "source": [
        "# We will download the edirect.tar.gz in ~/\n",
        "%cd ~\n",
        "# Download edirect.tar.gz\n",
        "!perl -MNet::FTP -e '$ftp = new Net::FTP(\"ftp.ncbi.nlm.nih.gov\", Passive => 1); $ftp->login; $ftp->binary; $ftp->get(\"/entrez/entrezdirect/edirect.tar.gz\");'\n",
        "# Unpack tar.gz file\n",
        "!tar -xzvf edirect.tar.gz"
      ],
      "execution_count": 0,
      "outputs": []
    },
    {
      "metadata": {
        "id": "Z0D-UzMOOBnL",
        "colab_type": "code",
        "colab": {
          "autoexec": {
            "startup": false,
            "wait_interval": 0
          }
        }
      },
      "cell_type": "code",
      "source": [
        "# Now we will setup edirect using the setup.sh script\n",
        "!./edirect/setup.sh"
      ],
      "execution_count": 0,
      "outputs": []
    },
    {
      "metadata": {
        "id": "VQSu1eoSxFy7",
        "colab_type": "text"
      },
      "cell_type": "markdown",
      "source": [
        "Installing additional required perl modules for NCBI EDirect tools."
      ]
    },
    {
      "metadata": {
        "id": "VFBtoDL-vOoV",
        "colab_type": "code",
        "colab": {
          "autoexec": {
            "startup": false,
            "wait_interval": 0
          }
        }
      },
      "cell_type": "code",
      "source": [
        "# Install tool to help manage perl modules\n",
        "!curl -L https://cpanmin.us | perl - App::cpanminus\n",
        "# Make sure ssl library is compatible with perl module Net::SSLeay\n",
        "!apt-get install libssl-dev\n",
        "# Install Net::SSLeay perl module\n",
        "!cpanm Net::SSLeay\n",
        "# Install LWP::Protocol::https perl module\n",
        "!cpanm LWP::Protocol::https"
      ],
      "execution_count": 0,
      "outputs": []
    },
    {
      "metadata": {
        "id": "DGkqZwlsJwFH",
        "colab_type": "text"
      },
      "cell_type": "markdown",
      "source": [
        "## Important: Setting environment variables\n",
        "\n",
        "You must run this step to have the remainder of this tutorial work."
      ]
    },
    {
      "metadata": {
        "id": "nsbR6f9WFanE",
        "colab_type": "code",
        "colab": {
          "autoexec": {
            "startup": false,
            "wait_interval": 0
          }
        }
      },
      "cell_type": "code",
      "source": [
        "# Import Python3 package to set environment variables\n",
        "import os\n",
        "os.environ['PATH'] += \":/content/ncbi-magicblast-1.3.0/bin\"\n",
        "os.environ['PATH'] += \":/content/edirect\""
      ],
      "execution_count": 0,
      "outputs": []
    },
    {
      "metadata": {
        "id": "nHJ5bmLO5xZl",
        "colab_type": "text"
      },
      "cell_type": "markdown",
      "source": [
        "## Directory setup and additional checks\n",
        "\n",
        "First, let's see what we have in our directory:"
      ]
    },
    {
      "metadata": {
        "id": "jwNyeBh8jpin",
        "colab_type": "code",
        "colab": {
          "autoexec": {
            "startup": false,
            "wait_interval": 0
          }
        }
      },
      "cell_type": "code",
      "source": [
        "!ls"
      ],
      "execution_count": 0,
      "outputs": []
    },
    {
      "metadata": {
        "id": "BMdcqjvR52Wb",
        "colab_type": "text"
      },
      "cell_type": "markdown",
      "source": [
        "Now we will set up our working directory called `sandbox`:"
      ]
    },
    {
      "metadata": {
        "id": "yMn32vdr5D2b",
        "colab_type": "code",
        "colab": {
          "autoexec": {
            "startup": false,
            "wait_interval": 0
          }
        }
      },
      "cell_type": "code",
      "source": [
        "!mkdir -p ~/sandbox\n",
        "\n",
        "# Check if our directory has been made\n",
        "!ls"
      ],
      "execution_count": 0,
      "outputs": []
    },
    {
      "metadata": {
        "id": "83GZQL-dKI5N",
        "colab_type": "text"
      },
      "cell_type": "markdown",
      "source": [
        "Let's bring up the usage message for `magicblast`:"
      ]
    },
    {
      "metadata": {
        "id": "f6MlQaNNlK3z",
        "colab_type": "code",
        "colab": {
          "autoexec": {
            "startup": false,
            "wait_interval": 0
          }
        }
      },
      "cell_type": "code",
      "source": [
        "!magicblast -h                                                                                                                                                                       !magicblast -help"
      ],
      "execution_count": 0,
      "outputs": []
    },
    {
      "metadata": {
        "id": "vz-KFJbNATQZ",
        "colab_type": "text"
      },
      "cell_type": "markdown",
      "source": [
        "---\n",
        "\n",
        "# Example 1: *Herpes Simplex*\n",
        "\n",
        "For our example, we will be working with the `viral_reference.fa` reference genome. \n",
        "\n",
        "**Caution:** If you choose to use your own data, make sure you change filenames and filepaths accordingly throughout the tutorial.\n",
        "\n",
        "Now let's download the reference genome and take a look at it first.\n",
        "\n",
        "## Step 1: Get reference FASTA file into Google Colaboratory\n",
        "\n",
        "There are **3 methods** to get data into Google Colaboratory. You can choose any of the 3 methods to use, you do not have to run all 3. For the purposes of this tutorial, we will cover all three ways using this first virus example.\n",
        "\n",
        "#### Methods Summary\n",
        "\n",
        "- **Get Data Method 1:** Use widget to upload data from local computer.\n",
        "- **Get Data Method 2:** Search for the organism in NCBI's public data repositories, find an FTP URL, and download using `wget`.\n",
        "- **Get Data Method 3:** Use [NCBI EDirect tools](https://github.com/NCBI-Hackathons/EDirectCookbook). Below is an example command line to download human chromosome 1 by accession query ID:\n",
        "\n",
        "```bash\n",
        "!esearch -db nucleotide -query NC_000001 | !efetch -format fasta > NC_000001.fa\n",
        "```\n",
        "\n",
        "Input for the `-query` flag here was found on [this page in NCBI GenBank](https://www.ncbi.nlm.nih.gov/nuccore/NC_000001.10) under `ACCESSION`.\n",
        "\n",
        "**NOTE:** Here, we assume you have already installed all dependencies listed in the **Getting started** section. If you have not and are running this tutorial in **Google Colaboratory**, please re-visit the **Getting started** section and install all dependencies before proceeding. If you plan to copy paste commands and run on your **local computer**, please follow installation instructions provided at [NCBI EDirect tools](https://github.com/NCBI-Hackathons/EDirectCookbook).\n"
      ]
    },
    {
      "metadata": {
        "id": "S9z2crAK3V4P",
        "colab_type": "text"
      },
      "cell_type": "markdown",
      "source": [
        "### Get Data Method 1: Uploading Files from your Computer\n",
        "\n",
        "If you have a file on your local computer you want to use (i.e. a reference.fa file that you can't download via a link), run the code below. **Otherwise, use either *Method 2* or *Method 3* to get your reference FASTA file into Google Colaboratory!**\n",
        "\n",
        "**Note:** A `Choose Files` widget will appear within 1 minute. You can then click on the widget and select the file you want to upload. This works best in a Google Chrome browser!"
      ]
    },
    {
      "metadata": {
        "id": "2UvjshGezRx9",
        "colab_type": "code",
        "colab": {
          "autoexec": {
            "startup": false,
            "wait_interval": 0
          }
        }
      },
      "cell_type": "code",
      "source": [
        "from google.colab import files\n",
        "\n",
        "uploaded = files.upload()\n",
        "\n",
        "for fn in uploaded.keys():\n",
        "  print('User uploaded file \"{name}\" with length {length} bytes'.format(\n",
        "      name=fn, length=len(uploaded[fn])))"
      ],
      "execution_count": 0,
      "outputs": []
    },
    {
      "metadata": {
        "id": "Q-8A1B8FCx1n",
        "colab_type": "code",
        "colab": {
          "autoexec": {
            "startup": false,
            "wait_interval": 0
          }
        }
      },
      "cell_type": "code",
      "source": [
        "# Check if file was uploaded\n",
        "!ls"
      ],
      "execution_count": 0,
      "outputs": []
    },
    {
      "metadata": {
        "id": "CrQNb5voy7UG",
        "colab_type": "text"
      },
      "cell_type": "markdown",
      "source": [
        "### Get Data Method 2: Transfer data via FTP (File Transfer Protocol)\n",
        "\n",
        "Since we already have the URL for our viral reference genome, we will download it using the `wget` command."
      ]
    },
    {
      "metadata": {
        "id": "a8COM7yQiOlI",
        "colab_type": "code",
        "colab": {
          "autoexec": {
            "startup": false,
            "wait_interval": 0
          }
        }
      },
      "cell_type": "code",
      "source": [
        "!wget ftp://ftp.ncbi.nlm.nih.gov/genomes/all/GCF/000/859/985/GCF_000859985.2_ViralProj15217/GCF_000859985.2_ViralProj15217_genomic.fna.gz"
      ],
      "execution_count": 0,
      "outputs": []
    },
    {
      "metadata": {
        "id": "W-4kFnZ8YVKx",
        "colab_type": "text"
      },
      "cell_type": "markdown",
      "source": [
        "Decompress and rename the reference genome you chose from the NCBI link given above."
      ]
    },
    {
      "metadata": {
        "id": "TC1LSPvjirhv",
        "colab_type": "code",
        "colab": {
          "autoexec": {
            "startup": false,
            "wait_interval": 0
          }
        }
      },
      "cell_type": "code",
      "source": [
        "!ls\n",
        "!gzip -dc GCF_000859985.2_ViralProj15217_genomic.fna.gz > viral_reference.fa"
      ],
      "execution_count": 0,
      "outputs": []
    },
    {
      "metadata": {
        "id": "fA7iXb-8WHrO",
        "colab_type": "text"
      },
      "cell_type": "markdown",
      "source": [
        "Verify and display the first 6 lines of the file using the `head` command. "
      ]
    },
    {
      "metadata": {
        "id": "4HE6pRT8mRLK",
        "colab_type": "code",
        "colab": {
          "autoexec": {
            "startup": false,
            "wait_interval": 0
          }
        }
      },
      "cell_type": "code",
      "source": [
        "!head -n 6 viral_reference.fa"
      ],
      "execution_count": 0,
      "outputs": []
    },
    {
      "metadata": {
        "id": "xq0NwldLzGnJ",
        "colab_type": "text"
      },
      "cell_type": "markdown",
      "source": [
        "### Get Data Method 3: Transfer data via NCBI EDirect tools"
      ]
    },
    {
      "metadata": {
        "id": "CFzgM8Bk6SJj",
        "colab_type": "code",
        "colab": {
          "autoexec": {
            "startup": false,
            "wait_interval": 0
          }
        }
      },
      "cell_type": "code",
      "source": [
        "!esearch -db nucleotide -query NC_001806 | efetch -format fasta > viral_reference.fa"
      ],
      "execution_count": 0,
      "outputs": []
    },
    {
      "metadata": {
        "id": "CCuRISkEoKsE",
        "colab_type": "text"
      },
      "cell_type": "markdown",
      "source": [
        "## Step 2: Create a BLAST database\n",
        "\n",
        "Next, we need to create a BLAST database for our genome. When working with reference FASTA files, we will follow this command line structure:\n",
        "\n",
        "```bash\n",
        "!makeblastdb -in <reference.fa> -dbtype nucl -parse_seqids -out <database_name> -title \"Database title\"\n",
        "```\n",
        "\n",
        "The `-parse_seqids` option is required to keep the original sequence identifiers. Otherwise `makeblastdb` will generate its own identifiers, `-title` is optional.\n",
        "\n",
        "For more information on `makeblastdb` see [NCBI BLAST+ Command Line User Manual](https://www.ncbi.nlm.nih.gov/books/NBK279688/). For more information on creating a BLAST database, [see this documentation](https://ncbi.github.io/magicblast/cook/blastdb.html).\n",
        "\n",
        "#### Let's use the following command line to create our BLAST database from the `viral_reference.fa` file:"
      ]
    },
    {
      "metadata": {
        "id": "UzKLJa9tL9xB",
        "colab_type": "code",
        "colab": {
          "autoexec": {
            "startup": false,
            "wait_interval": 0
          }
        }
      },
      "cell_type": "code",
      "source": [
        "# Let's take a quick look at the usage message\n",
        "!esearch -help"
      ],
      "execution_count": 0,
      "outputs": []
    },
    {
      "metadata": {
        "id": "6gH9l8aR48Xj",
        "colab_type": "code",
        "colab": {
          "autoexec": {
            "startup": false,
            "wait_interval": 0
          }
        }
      },
      "cell_type": "code",
      "source": [
        "# Go into sandbox directory\n",
        "%cd ~/sandbox\n",
        "# Create BLAST database\n",
        "!makeblastdb -in $HOME/viral_reference.fa -dbtype nucl -parse_seqids -out Herpes_virus_1"
      ],
      "execution_count": 0,
      "outputs": []
    },
    {
      "metadata": {
        "id": "94lqG-Pb63vw",
        "colab_type": "text"
      },
      "cell_type": "markdown",
      "source": [
        "## Step 3: Use NCBI SRA repository\n",
        "\n",
        "If you are mapping an experiment from [NCBI Sequence Read Archive](https://www.ncbi.nlm.nih.gov/sra), use the `-sra <accession>` option like so:\n",
        "\n",
        "```bash\n",
        "magicblast -sra <accession> -db <database_name>\n",
        "```\n",
        "\n",
        "#### Let's use NCBI SRA repostory to map an experiment:"
      ]
    },
    {
      "metadata": {
        "id": "py3__CPKMZB9",
        "colab_type": "code",
        "colab": {
          "autoexec": {
            "startup": false,
            "wait_interval": 0
          }
        }
      },
      "cell_type": "code",
      "source": [
        "%cd ~/sandbox"
      ],
      "execution_count": 0,
      "outputs": []
    },
    {
      "metadata": {
        "id": "5VVs4bvB64Qw",
        "colab_type": "code",
        "colab": {
          "autoexec": {
            "startup": false,
            "wait_interval": 0
          }
        }
      },
      "cell_type": "code",
      "source": [
        "!magicblast -sra SRR1533750 -db Herpes_virus_1 -no_unaligned -num_threads 2 -out SRR3315293_into_HSV1"
      ],
      "execution_count": 0,
      "outputs": []
    },
    {
      "metadata": {
        "id": "G68VinGd69y2",
        "colab_type": "text"
      },
      "cell_type": "markdown",
      "source": [
        "To map several SRA runs use a comma-separated list of accessions:"
      ]
    },
    {
      "metadata": {
        "id": "Zy06YDc66-Jl",
        "colab_type": "code",
        "colab": {
          "autoexec": {
            "startup": false,
            "wait_interval": 0
          }
        }
      },
      "cell_type": "code",
      "source": [
        "!magicblast -sra SRR1237994,SRR1237993 -db Herpes_virus_1"
      ],
      "execution_count": 0,
      "outputs": []
    },
    {
      "metadata": {
        "id": "2QVRstpSwLEF",
        "colab_type": "text"
      },
      "cell_type": "markdown",
      "source": [
        "---\n",
        "\n",
        "#  Example 2: *Salmonella typhimurium* str. LT2\n",
        "\n",
        "For this second example in our tutorial, we will repeat similar steps as above except using a bacteria samples.\n",
        "\n",
        "## Step 1: Get reference FASTA file into Google Colaboratory\n",
        "\n",
        "Let's download our bacteria reference genome and take a look at the first few lines."
      ]
    },
    {
      "metadata": {
        "id": "dQxN7Srh5e8R",
        "colab_type": "code",
        "colab": {
          "autoexec": {
            "startup": false,
            "wait_interval": 0
          }
        }
      },
      "cell_type": "code",
      "source": [
        "# Go into our home directory\n",
        "%cd ~"
      ],
      "execution_count": 0,
      "outputs": []
    },
    {
      "metadata": {
        "id": "C5EO0hHRPhVO",
        "colab_type": "code",
        "colab": {
          "autoexec": {
            "startup": false,
            "wait_interval": 0
          }
        }
      },
      "cell_type": "code",
      "source": [
        "# Download reference file into home directory via FTP URL\n",
        "!wget ftp://ftp.ncbi.nlm.nih.gov/genomes/all/GCF/000/006/945/GCF_000006945.2_ASM694v2/GCF_000006945.2_ASM694v2_genomic.fna.gz"
      ],
      "execution_count": 0,
      "outputs": []
    },
    {
      "metadata": {
        "id": "EX6c3xaK5Nd5",
        "colab_type": "code",
        "colab": {
          "autoexec": {
            "startup": false,
            "wait_interval": 0
          }
        }
      },
      "cell_type": "code",
      "source": [
        "# Decompress and rename reference genome\n",
        "!gzip -dc GCF_000006945.2_ASM694v2_genomic.fna.gz > bacteria_reference.fa"
      ],
      "execution_count": 0,
      "outputs": []
    },
    {
      "metadata": {
        "id": "3bEJEJ_b5ZQ_",
        "colab_type": "code",
        "colab": {
          "autoexec": {
            "startup": false,
            "wait_interval": 0
          }
        }
      },
      "cell_type": "code",
      "source": [
        "!head -n 6 bacteria_reference.fa"
      ],
      "execution_count": 0,
      "outputs": []
    },
    {
      "metadata": {
        "id": "eXlm4J5E_Gl6",
        "colab_type": "text"
      },
      "cell_type": "markdown",
      "source": [
        "## Step 2: Create a BLAST database\n",
        "\n",
        "For more details, please see the **Step 2: Create a BLAST database** section in Example 1: Herpes Simplex (above) of this tutorial."
      ]
    },
    {
      "metadata": {
        "id": "0X4-gU916gIE",
        "colab_type": "code",
        "colab": {
          "autoexec": {
            "startup": false,
            "wait_interval": 0
          }
        }
      },
      "cell_type": "code",
      "source": [
        "# Check if our sandbox directory exists, if not make it\n",
        "!mkdir -p ~/sandbox\n",
        "# Go into sandbox directory\n",
        "%cd ~/sandbox"
      ],
      "execution_count": 0,
      "outputs": []
    },
    {
      "metadata": {
        "id": "g2Y91r-m7sTW",
        "colab_type": "code",
        "colab": {
          "autoexec": {
            "startup": false,
            "wait_interval": 0
          }
        }
      },
      "cell_type": "code",
      "source": [
        "# Create BLAST database\n",
        "!makeblastdb -in $HOME/bacteria_reference.fa -dbtype nucl -parse_seqids -out salmonella_enterica_genome"
      ],
      "execution_count": 0,
      "outputs": []
    },
    {
      "metadata": {
        "id": "KH3Y12bMSjO-",
        "colab_type": "text"
      },
      "cell_type": "markdown",
      "source": [
        "## Step 3a: Use NCBI SRA repository\n",
        "\n",
        "Let's map an experiment to the bacteria reference database. For this example, we will be working with SRA sample SRS2253554 (WGS data) with run ID **SRR5647973**, you can find out more info about this SRA sample [here](https://www.ncbi.nlm.nih.gov/Traces/study/?acc=SRR5647973&go=go)."
      ]
    },
    {
      "metadata": {
        "id": "jkChWmGiSnAm",
        "colab_type": "code",
        "colab": {
          "autoexec": {
            "startup": false,
            "wait_interval": 0
          }
        }
      },
      "cell_type": "code",
      "source": [
        "%cd ~/sandbox"
      ],
      "execution_count": 0,
      "outputs": []
    },
    {
      "metadata": {
        "id": "IHMm1WYIU264",
        "colab_type": "code",
        "colab": {
          "autoexec": {
            "startup": false,
            "wait_interval": 0
          }
        }
      },
      "cell_type": "code",
      "source": [
        "!magicblast -sra SRR5647973 -db salmonella_enterica_genome"
      ],
      "execution_count": 0,
      "outputs": []
    },
    {
      "metadata": {
        "id": "-J2aklB17O28",
        "colab_type": "text"
      },
      "cell_type": "markdown",
      "source": [
        "## Step 3b: RNA vs DNA\n",
        "\n",
        "#### Splicing\n",
        "\n",
        "By default, Magic-BLAST aligns RNA reads to a genome and reports spliced alignments, possibly spanning several exons. To disable spliced alignments, use the `-splice F` option. We can map RNA or DNA reads  to a reference genome. Here, we will be mapping RNA reads.\n",
        "\n",
        "For this example we will be working with SRA sample SRS3192091 (RNA-Seq data) with run ID **SRR7029713**, you can find out more info about this SRA sample [here](https://www.ncbi.nlm.nih.gov/Traces/study/?acc=SRR7029713&go=go).\n",
        "\n",
        "Let's map RNA-seq reads to a bacterial genome:"
      ]
    },
    {
      "metadata": {
        "id": "SZSTtZae7EP6",
        "colab_type": "code",
        "colab": {
          "autoexec": {
            "startup": false,
            "wait_interval": 0
          }
        }
      },
      "cell_type": "code",
      "source": [
        "!magicblast -sra SRR7029713 -db salmonella_enterica_genome -splice F"
      ],
      "execution_count": 0,
      "outputs": []
    },
    {
      "metadata": {
        "id": "FQkftPqE7VKS",
        "colab_type": "text"
      },
      "cell_type": "markdown",
      "source": [
        "#### Transcriptome\n",
        "\n",
        "Use the `-reftype transcriptome` option, to map reads to a transcriptome database. For example:\n",
        "\n",
        "```bash\n",
        "!magicblast -query reads.fa -db my_transcripts -reftype transcriptome\n",
        "```\n",
        "\n",
        "The `-ref_type transcriptome` option is a short hand for `-splice F -limit_lookup F`, so the above call is equivalent to:\n",
        "\n",
        "```bash\n",
        "!magicblast -query reads.fa -db my_transcripts -splice F -limit_lookup F\n",
        "```\n",
        "\n",
        "Magic-Blast finds alignments between a read and a genome based on initial common word in both. Many genomes contain interspersed repeats that make mapping much more time consuming. To make mapping faster we disregard words that appear too often in the reference. This is not desirable when mapping to transcripts, because a transcript with many variants could be considered a repeat. The `-limit_lookup F` option turns this functionality off.\n",
        "\n",
        "For this example, we will be working with SRA sample SRS3192092 with run ID **SRR7029712**, you can find more info about this SRA sample [here](https://www.ncbi.nlm.nih.gov/Traces/study/?acc=SRS3192092&go=go).\n",
        "\n",
        "Let's map to our transcriptome database:"
      ]
    },
    {
      "metadata": {
        "id": "Qv04Ygs2Jj_0",
        "colab_type": "code",
        "colab": {
          "autoexec": {
            "startup": false,
            "wait_interval": 0
          }
        }
      },
      "cell_type": "code",
      "source": [
        "!magicblast -sra SRR7029712 -db salmonella_enterica_genome -reftype transcriptome"
      ],
      "execution_count": 0,
      "outputs": []
    },
    {
      "metadata": {
        "id": "W3jTuKlx7HHh",
        "colab_type": "text"
      },
      "cell_type": "markdown",
      "source": [
        "---\n",
        "\n",
        "# Additional Magic-BLAST Features\n",
        "\n",
        "We have not included code blocks for reading in FASTQ files, working with paired end vs single end reads, and multi-threading in this tutorial, but we have laid out the command line structure you will need to run them. You are welcome to test them out for yourself.\n",
        "\n",
        "## Reads in FASTA or FASTQ\n",
        "\n",
        "If your reads are in a local FASTA file use this command line:\n",
        "\n",
        "```bash\n",
        "!magicblast -query reads.fa -db my_reference\n",
        "```\n",
        "\n",
        "If your reads are in a local FASTQ file use this command line:\n",
        "\n",
        "```bash\n",
        "!magicblast -query reads.fastq -db my_reference -infmt fastq\n",
        "```\n",
        "\n",
        "## Paired reads\n",
        "\n",
        "For SRA accessions Magic-BLAST determines whether reads are paired and maps them appropriately.\n",
        "\n",
        "For reads in FASTA and FASTQ files paired reads can either be in a single file, or two files.\n",
        "\n",
        "#### Single file\n",
        "\n",
        "For paired reads presented as successive entries in a single FASTA or FASTQ file, i.e. read 1 and 2 of fragment 1, then read 1 and 2 of fragment 2, etc., simply add the parameter `-paired`:\n",
        "\n",
        "```bash\n",
        "!magicblast -query reads.fa -db genome -paired\n",
        "```\n",
        "\n",
        "or\n",
        "\n",
        "```bash\n",
        "!magicblast -query reads.fastq -db genome -paired -infmt fastq\n",
        "```\n",
        "\n",
        "#### Two files\n",
        "\n",
        "For paired reads presented in two parallel files, use these options:\n",
        "\n",
        "```bash\n",
        "!magicblast -query reads.fa -query_mate mates.fa -db genome\n",
        "```\n",
        "\n",
        "or\n",
        "\n",
        "```bash\n",
        "!magicblast -query reads.fastq -query_mate mates.fastq -db genome -infmt fastq\n",
        "```\n",
        "\n",
        "## Multi-threading\n",
        "\n",
        "To use multiple CPUs, specify the maximal number of threads with the `-num_threads` parameter:\n",
        "\n",
        "```bash\n",
        "!magicblast -query reads.fa -db genome -num_threads 10\n",
        "```"
      ]
    }
  ]
}