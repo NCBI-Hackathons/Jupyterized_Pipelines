{
 "cells": [
  {
   "cell_type": "markdown",
   "metadata": {},
   "source": [
    "# Fusera variant calling pipeline\n",
    "---\n",
    "\n",
    "In this tutorial, we will use [Fusera](https://github.com/mitre/fusera) (a cloud extension to the [NCBI Sequence Read Archive](https://www.ncbi.nlm.nih.gov/sra)) to access publicly available test data from the 1000 Genomes project. Then we will follow GATK best practices to do variant calling on the test data.\n",
    "\n",
    "**Note:** If you have not installed [Fusera](https://github.com/mitre/fusera) and [bcbio](https://bcbio-nextgen.readthedocs.io/en/latest/index.html), please do so before proceeding.\n",
    "\n",
    "---"
   ]
  },
  {
   "cell_type": "markdown",
   "metadata": {},
   "source": [
    "## Part I: Accessing data with Fusera\n",
    "\n",
    "First, we will download the publicly available test `.ngc` file. If there are other datasets you want to use, please submit a data access request to [dbGaP](https://www.ncbi.nlm.nih.gov/gap)."
   ]
  },
  {
   "cell_type": "code",
   "execution_count": null,
   "metadata": {},
   "outputs": [],
   "source": [
    "# Download test .ngc file (publicly available)\n",
    "cd ~\n",
    "wget ftp://ftp.ncbi.nlm.nih.gov/sra/examples/decrypt_examples/prj_phs710EA_test.ngc"
   ]
  },
  {
   "cell_type": "markdown",
   "metadata": {},
   "source": [
    "Next, let's set up directories for this tutorial. The directory `cloud_mountpoint` must be empty; we will use this directory to mount our cloud instance for data access. The `local_results` directory will store our output files from running GATK variant calling pipeline."
   ]
  },
  {
   "cell_type": "code",
   "execution_count": 9,
   "metadata": {},
   "outputs": [],
   "source": [
    "# This is dir we will use to mount cloud instance to access data\n",
    "mkdir -p ~/cloud_mountpoint # This dir must be empty for Fusera to work!\n",
    "\n",
    "# We will use this local dir on to store our analysis output\n",
    "mkdir -p ~/local_results"
   ]
  },
  {
   "cell_type": "code",
   "execution_count": 10,
   "metadata": {},
   "outputs": [
    {
     "name": "stdout",
     "output_type": "stream",
     "text": [
      "\u001b[34mcloud_mountpoint\u001b[39;49m\u001b[0m             output.log\n",
      "config_GCF_gatk_variant.yaml prj_phs710EA_test.ngc\n",
      "fusera_variant_calling.ipynb \u001b[34mtest\u001b[39;49m\u001b[0m\n",
      "\u001b[34mlocal_results\u001b[39;49m\u001b[0m\n"
     ]
    }
   ],
   "source": [
    "ls"
   ]
  },
  {
   "cell_type": "markdown",
   "metadata": {},
   "source": [
    "Now, we will mount the cloud instance to access our test data. **Important:** You must unmount the cloud instance after you are done. You can use the command `fusera unmount ~/cloud_mountpoint`. I have also included a code block at the end of this tutorial to unmount.\n",
    "\n",
    "If you would like to access other data, you can find valid input for the `--location` flag by going to [NCBI SRA](https://www.ncbi.nlm.nih.gov/sra), then SRA Run Selector. Now you can search for your run (i.e. SRR1219902) and look at the RunInfo Table. You can use info in the `DATASTORE_region` column of the RunInfo Table for the `--location` flag. For the example used in this tutorial, the RunInfo Table can be found [on this page](https://trace.ncbi.nlm.nih.gov/Traces/study/?acc=SRR121990&go=go)."
   ]
  },
  {
   "cell_type": "code",
   "execution_count": 16,
   "metadata": {},
   "outputs": [
    {
     "name": "stdout",
     "output_type": "stream",
     "text": [
      "[1] 10203\n"
     ]
    },
    {
     "ename": "",
     "evalue": "1",
     "output_type": "error",
     "traceback": []
    }
   ],
   "source": [
    "# You will have to change the filepaths depending on your directory structure\n",
    "fusera mount --ngc \"~/prj_phs710EA_test.ngc\" --accession \"SRR1219902\" --location s3.us-east-1 ~/cloud_mountpoint > output.log 2>&1 &\n"
   ]
  },
  {
   "cell_type": "markdown",
   "metadata": {},
   "source": [
    "Let's take a look at what is inside of `cloud_mountpoint`."
   ]
  },
  {
   "cell_type": "code",
   "execution_count": 18,
   "metadata": {},
   "outputs": [],
   "source": [
    "cd ~/cloud_mountpoint\n",
    "ls"
   ]
  },
  {
   "cell_type": "markdown",
   "metadata": {},
   "source": [
    "---"
   ]
  },
  {
   "cell_type": "markdown",
   "metadata": {},
   "source": [
    "## Part II: GATK variant calling\n",
    "\n",
    "Next, we will run `bcbio`. We have already filled out the config file, called `config_GCF_gatk_variant.yaml`, that stores the parameters for our variant calling pipeline. If you would like to play around with the parameters for this tutorial, the `config_GCF_gatk_variant.yaml` lives in the same directory as this iPython notebook.\n",
    "\n",
    "If you would like to use a different variant calling pipeline, `bcbio` comes with many configuration file templates. Or you can also use the following command to automatically create a sample configuration file for your favorite pipeline:\n",
    "\n",
    "```bash\n",
    "bcbio_nextgen.py -w template gatk-variant project1 sample1.bam sample2_1.fq sample2_2.fq\n",
    "```\n",
    "\n",
    "You can find a list of supported pipelines [here](https://bcbio-nextgen.readthedocs.io/en/latest/contents/pipelines.html).\n",
    "\n",
    "Please read [`bcbio`'s getting started page](https://bcbio-nextgen.readthedocs.io/en/latest/contents/testing.html) for more details."
   ]
  },
  {
   "cell_type": "code",
   "execution_count": null,
   "metadata": {},
   "outputs": [],
   "source": [
    "# The -n flag distributes this across 8 local cores\n",
    "bcbio_nextgen.py config_GCF_gatk_variant.yaml -n 8"
   ]
  },
  {
   "cell_type": "markdown",
   "metadata": {},
   "source": [
    "---"
   ]
  },
  {
   "cell_type": "markdown",
   "metadata": {},
   "source": [
    "## Important: Unmount Fusera"
   ]
  },
  {
   "cell_type": "code",
   "execution_count": null,
   "metadata": {},
   "outputs": [],
   "source": [
    "disown %1"
   ]
  },
  {
   "cell_type": "code",
   "execution_count": null,
   "metadata": {},
   "outputs": [],
   "source": [
    "cd ~/jupyter_notebooks/fusera_vc\n",
    "fusera unmount ~/cloud_mountpoint"
   ]
  }
 ],
 "metadata": {
  "kernelspec": {
   "display_name": "Bash",
   "language": "bash",
   "name": "bash"
  },
  "language_info": {
   "codemirror_mode": "shell",
   "file_extension": ".sh",
   "mimetype": "text/x-sh",
   "name": "bash"
  }
 },
 "nbformat": 4,
 "nbformat_minor": 2
}
